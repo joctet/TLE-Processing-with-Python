{
 "cells": [
  {
   "cell_type": "code",
   "execution_count": 1,
   "metadata": {},
   "outputs": [],
   "source": [
    "from sgp4.api import Satrec\n",
    "from sgp4.api import jday"
   ]
  },
  {
   "cell_type": "markdown",
   "metadata": {},
   "source": [
    "# First, an example with one TLE"
   ]
  },
  {
   "cell_type": "markdown",
   "metadata": {},
   "source": [
    "First we take an example of a TLE on the celestrack website. \n",
    "\n",
    "For instance we can take the latest TLE of the ISS-ZARYA at the following link. \n",
    "\n",
    "https://celestrak.com/satcat/search-results.php\n",
    "\n",
    "Click on the TLE icon in the column \"Latest Data\".\n",
    "\n",
    "You will see something like that :\n",
    "\n",
    "\n",
    "**ISS (ZARYA)**            \n",
    "\n",
    "**1 25544U 98067A   21035.51324206  .00001077  00000-0  27754-4 0  9998**\n",
    "\n",
    "**2 25544  51.6455 278.9410 0002184 336.6191  80.6984 15.48940116268036**\n",
    "\n",
    "\n",
    "We then retrieve the content of the TLE in the variable s (first row) & t (second row)."
   ]
  },
  {
   "cell_type": "code",
   "execution_count": 2,
   "metadata": {},
   "outputs": [],
   "source": [
    "s = '1 25544U 98067A   21035.51324206  .00001077  00000-0  27754-4 0  9998'\n",
    "\n",
    "t = '2 25544  51.6455 278.9410 0002184 336.6191  80.6984 15.48940116268036'\n",
    "\n",
    "satellite = Satrec.twoline2rv(s, t)"
   ]
  },
  {
   "cell_type": "markdown",
   "metadata": {},
   "source": [
    "We pick a date & associate it with the variables jd (Julian Date) and fr (fraction of Julian Date).\n",
    "\n",
    "We give the jday function the exact date we want in the followinf format : (years, months, days, hours, minutes, secondes).\n",
    "\n",
    "Today we are the 4th February, 2021 and it's around 6PM so we will write (2021, 2, 4, 18, 5, 0) in the jday function."
   ]
  },
  {
   "cell_type": "code",
   "execution_count": 4,
   "metadata": {},
   "outputs": [],
   "source": [
    "jd, fr = jday(2021, 2, 4, 18, 5, 0) "
   ]
  },
  {
   "cell_type": "markdown",
   "metadata": {},
   "source": [
    "Then we get the error 'e', position vector 'r' & speed vector 'v' in Cartesion coordinates"
   ]
  },
  {
   "cell_type": "code",
   "execution_count": 5,
   "metadata": {},
   "outputs": [],
   "source": [
    "e, r, v = satellite.sgp4(jd, fr)"
   ]
  },
  {
   "cell_type": "code",
   "execution_count": 6,
   "metadata": {
    "scrolled": false
   },
   "outputs": [
    {
     "name": "stdout",
     "output_type": "stream",
     "text": [
      "e : 0\n",
      "r : (-2137.818424827055, -5365.884343148369, -3589.122249361432)\n",
      "v : (4.175137064023087, -4.630433520287019, 4.4419129869779415)\n"
     ]
    }
   ],
   "source": [
    "print(\"e : \" + str(e) + \"\\n\" + \"r : \" + str(r) + \"\\n\" + \"v : \" + str(v))"
   ]
  },
  {
   "cell_type": "markdown",
   "metadata": {},
   "source": [
    "# Now, lets process a bunch of TLEs"
   ]
  },
  {
   "cell_type": "code",
   "execution_count": 31,
   "metadata": {},
   "outputs": [],
   "source": [
    "import pandas as pd"
   ]
  },
  {
   "cell_type": "markdown",
   "metadata": {},
   "source": [
    "Go back to the previous link : https://celestrak.com/satcat/search-results.php\n",
    "\n",
    "But this time click on the TLE icon in the first column : \"Internal Designator\" (also available at this link : https://celestrak.com/satcat/tle.php?INTDES=1998-067)\n",
    "\n",
    "Right click anywhere on the page an save the file where this code is saved. The file will be saved as tle.txt"
   ]
  },
  {
   "cell_type": "code",
   "execution_count": 7,
   "metadata": {},
   "outputs": [],
   "source": [
    "TLE_file = \"tle.txt\""
   ]
  },
  {
   "cell_type": "markdown",
   "metadata": {},
   "source": [
    "We then open the file and save the values in three lists :\n",
    "\n",
    "- L_Name (containing the satellites' names)\n",
    "\n",
    "- L_1, L_2 (containing respectively the first and second rows of each TLE)"
   ]
  },
  {
   "cell_type": "code",
   "execution_count": 60,
   "metadata": {},
   "outputs": [],
   "source": [
    "TLEs = open(TLE_file, 'r')\n",
    "\n",
    "L_Name = []\n",
    "L_1 = []\n",
    "L_2 = []\n",
    "\n",
    "i = 1\n",
    "\n",
    "for line in TLEs:\n",
    "    j = i\n",
    "    if i == 1:\n",
    "        L_Name.append(line)\n",
    "        j = 2\n",
    "    elif i == 2:\n",
    "        L_1.append(line[:69])\n",
    "        j = 3\n",
    "    elif i == 3:\n",
    "        L_2.append(line[:69])\n",
    "        j = 1\n",
    "    i = j"
   ]
  },
  {
   "cell_type": "markdown",
   "metadata": {},
   "source": [
    "We create a dataframe to gather our data :"
   ]
  },
  {
   "cell_type": "code",
   "execution_count": 72,
   "metadata": {},
   "outputs": [
    {
     "data": {
      "text/html": [
       "<div>\n",
       "<style scoped>\n",
       "    .dataframe tbody tr th:only-of-type {\n",
       "        vertical-align: middle;\n",
       "    }\n",
       "\n",
       "    .dataframe tbody tr th {\n",
       "        vertical-align: top;\n",
       "    }\n",
       "\n",
       "    .dataframe thead th {\n",
       "        text-align: right;\n",
       "    }\n",
       "</style>\n",
       "<table border=\"1\" class=\"dataframe\">\n",
       "  <thead>\n",
       "    <tr style=\"text-align: right;\">\n",
       "      <th></th>\n",
       "      <th>Satellite_name</th>\n",
       "      <th>Line_1</th>\n",
       "      <th>Line_2</th>\n",
       "      <th>Position_vector</th>\n",
       "      <th>Speed_vector</th>\n",
       "    </tr>\n",
       "  </thead>\n",
       "  <tbody>\n",
       "  </tbody>\n",
       "</table>\n",
       "</div>"
      ],
      "text/plain": [
       "Empty DataFrame\n",
       "Columns: [Satellite_name, Line_1, Line_2, Position_vector, Speed_vector]\n",
       "Index: []"
      ]
     },
     "execution_count": 72,
     "metadata": {},
     "output_type": "execute_result"
    }
   ],
   "source": [
    "dataframe = pd.DataFrame(columns = ['Satellite_name', 'Line_1', 'Line_2', 'Position_vector', 'Speed_vector']) \n",
    "dataframe"
   ]
  },
  {
   "cell_type": "markdown",
   "metadata": {},
   "source": [
    "We fill in the columns of our dataframe with our data :"
   ]
  },
  {
   "cell_type": "code",
   "execution_count": 73,
   "metadata": {},
   "outputs": [],
   "source": [
    "dataframe.Satellite_name = L_Name\n",
    "dataframe.Line_1 = L_1\n",
    "dataframe.Line_2 = L_2"
   ]
  },
  {
   "cell_type": "markdown",
   "metadata": {},
   "source": [
    "We pick a date & associate it with the variables jd (Julian Date) and fr (fraction of Julian Date).\n",
    "\n",
    "Then for each line we compute the position and speed vectors and we put the results in lists :"
   ]
  },
  {
   "cell_type": "code",
   "execution_count": 74,
   "metadata": {},
   "outputs": [],
   "source": [
    "jd, fr = jday(2021, 2, 4, 18, 5, 0)\n",
    "\n",
    "L_PosVector = []\n",
    "L_SpeedVector = []\n",
    "\n",
    "for i in range(len(dataframe)):\n",
    "   \n",
    "    s = dataframe.Line_1[i]\n",
    "    t = dataframe.Line_2[i]\n",
    "    satellite = Satrec.twoline2rv(s, t)\n",
    "    e, r, v = satellite.sgp4(jd, fr)\n",
    "    L_PosVector.append(r)\n",
    "    L_SpeedVector.append(v)"
   ]
  },
  {
   "cell_type": "markdown",
   "metadata": {},
   "source": [
    "Finally, we assign the values of the position and speed vectors to the respectiv columns of our dataset :"
   ]
  },
  {
   "cell_type": "code",
   "execution_count": 77,
   "metadata": {},
   "outputs": [],
   "source": [
    "dataframe.Position_vector = L_PosVector\n",
    "dataframe.Speed_vector = L_SpeedVector"
   ]
  },
  {
   "cell_type": "code",
   "execution_count": 78,
   "metadata": {},
   "outputs": [
    {
     "data": {
      "text/html": [
       "<div>\n",
       "<style scoped>\n",
       "    .dataframe tbody tr th:only-of-type {\n",
       "        vertical-align: middle;\n",
       "    }\n",
       "\n",
       "    .dataframe tbody tr th {\n",
       "        vertical-align: top;\n",
       "    }\n",
       "\n",
       "    .dataframe thead th {\n",
       "        text-align: right;\n",
       "    }\n",
       "</style>\n",
       "<table border=\"1\" class=\"dataframe\">\n",
       "  <thead>\n",
       "    <tr style=\"text-align: right;\">\n",
       "      <th></th>\n",
       "      <th>Satellite_name</th>\n",
       "      <th>Line_1</th>\n",
       "      <th>Line_2</th>\n",
       "      <th>Position_vector</th>\n",
       "      <th>Speed_vector</th>\n",
       "    </tr>\n",
       "  </thead>\n",
       "  <tbody>\n",
       "    <tr>\n",
       "      <th>0</th>\n",
       "      <td>ISS (ZARYA)             \\n</td>\n",
       "      <td>1 25544U 98067A   21035.51324206  .00001077  0...</td>\n",
       "      <td>2 25544  51.6455 278.9410 0002184 336.6191  80...</td>\n",
       "      <td>(-2137.818424827055, -5365.884343148369, -3589...</td>\n",
       "      <td>(4.175137064023087, -4.630433520287019, 4.4419...</td>\n",
       "    </tr>\n",
       "    <tr>\n",
       "      <th>1</th>\n",
       "      <td>KESTREL EYE IIM (KE2M)  \\n</td>\n",
       "      <td>1 42982U 98067NE  21035.07784222  .00039518  0...</td>\n",
       "      <td>2 42982  51.6323 171.3925 0003428 269.8493  90...</td>\n",
       "      <td>(3259.2488357546895, 3252.9470579652548, -4877...</td>\n",
       "      <td>(-6.61442207086561, 3.2447383558170495, -2.255...</td>\n",
       "    </tr>\n",
       "    <tr>\n",
       "      <th>2</th>\n",
       "      <td>SIMPL                   \\n</td>\n",
       "      <td>1 42983U 98067NF  21035.43798448  .00008199  0...</td>\n",
       "      <td>2 42983  51.6361 214.0230 0003494 200.7330 159...</td>\n",
       "      <td>(-6131.33868083971, -2033.3893522594967, -1983...</td>\n",
       "      <td>(-0.05624971777802427, -5.270704914997986, 5.5...</td>\n",
       "    </tr>\n",
       "    <tr>\n",
       "      <th>3</th>\n",
       "      <td>ECAMSAT                 \\n</td>\n",
       "      <td>1 43019U 98067NG  21035.45134322  .00021928  0...</td>\n",
       "      <td>2 43019  51.6389 189.4470 0003522 205.4668 154...</td>\n",
       "      <td>(-768.1328539999155, 4112.390910933398, -5276....</td>\n",
       "      <td>(-7.59387077374121, -1.1919833818647645, 0.173...</td>\n",
       "    </tr>\n",
       "    <tr>\n",
       "      <th>4</th>\n",
       "      <td>DELLINGR (RBLE)         \\n</td>\n",
       "      <td>1 43021U 98067NJ  21035.40749557  .00057847  0...</td>\n",
       "      <td>2 43021  51.6297 166.1313 0001881 250.3584 109...</td>\n",
       "      <td>(6292.3944463409125, -2226.690729427155, 560.5...</td>\n",
       "      <td>(2.0850541370037305, 4.359768960598111, -6.017...</td>\n",
       "    </tr>\n",
       "    <tr>\n",
       "      <th>...</th>\n",
       "      <td>...</td>\n",
       "      <td>...</td>\n",
       "      <td>...</td>\n",
       "      <td>...</td>\n",
       "      <td>...</td>\n",
       "    </tr>\n",
       "    <tr>\n",
       "      <th>58</th>\n",
       "      <td>OBJECT RU               \\n</td>\n",
       "      <td>1 46924U 98067RU  21035.02823493  .00017701  0...</td>\n",
       "      <td>2 46924  51.6414 279.5858 0001095  50.1592 309...</td>\n",
       "      <td>(4032.2527835041187, 1441.4335591898925, 5253....</td>\n",
       "      <td>(-1.4958491759761905, 7.469229606280735, -0.89...</td>\n",
       "    </tr>\n",
       "    <tr>\n",
       "      <th>59</th>\n",
       "      <td>LEMUR-2-BAXTER-OLIVER   \\n</td>\n",
       "      <td>1 46925U 98067RV  21034.95410699  .00019862  0...</td>\n",
       "      <td>2 46925  51.6424 279.8471 0001239  34.8523 325...</td>\n",
       "      <td>(1169.6586754856028, 6279.494280750455, 2279.1...</td>\n",
       "      <td>(-4.610120327018833, 2.839597306018817, -5.432...</td>\n",
       "    </tr>\n",
       "    <tr>\n",
       "      <th>60</th>\n",
       "      <td>LEMUR-2-DJARA           \\n</td>\n",
       "      <td>1 46926U 98067RW  21034.89644397  .00016585  0...</td>\n",
       "      <td>2 46926  51.6422 280.2113 0000525  33.5776 326...</td>\n",
       "      <td>(3429.1155136793864, 3406.6405796472113, 4751....</td>\n",
       "      <td>(-2.8251500011349946, 6.6046566019132, -2.6888...</td>\n",
       "    </tr>\n",
       "    <tr>\n",
       "      <th>61</th>\n",
       "      <td>DESCENT                 \\n</td>\n",
       "      <td>1 46927U 98067RX  21035.08025837  .00008521  0...</td>\n",
       "      <td>2 46927  51.6422 279.9325 0001547   4.0934 356...</td>\n",
       "      <td>(458.7706459146908, 6598.936420263448, 1531.37...</td>\n",
       "      <td>(-4.7760255409536345, 1.6761367883965714, -5.7...</td>\n",
       "    </tr>\n",
       "    <tr>\n",
       "      <th>62</th>\n",
       "      <td>ISS DEB [COLKA COVER]   \\n</td>\n",
       "      <td>1 47513U 98067RY  21035.04943082  .00015016  0...</td>\n",
       "      <td>2 47513  51.6464 281.2151 0003132 350.3129   9...</td>\n",
       "      <td>(-1313.3286210909785, -6107.101506171205, -268...</td>\n",
       "      <td>(4.587271180632175, -3.2612434618771915, 5.194...</td>\n",
       "    </tr>\n",
       "  </tbody>\n",
       "</table>\n",
       "<p>63 rows × 5 columns</p>\n",
       "</div>"
      ],
      "text/plain": [
       "                Satellite_name  \\\n",
       "0   ISS (ZARYA)             \\n   \n",
       "1   KESTREL EYE IIM (KE2M)  \\n   \n",
       "2   SIMPL                   \\n   \n",
       "3   ECAMSAT                 \\n   \n",
       "4   DELLINGR (RBLE)         \\n   \n",
       "..                         ...   \n",
       "58  OBJECT RU               \\n   \n",
       "59  LEMUR-2-BAXTER-OLIVER   \\n   \n",
       "60  LEMUR-2-DJARA           \\n   \n",
       "61  DESCENT                 \\n   \n",
       "62  ISS DEB [COLKA COVER]   \\n   \n",
       "\n",
       "                                               Line_1  \\\n",
       "0   1 25544U 98067A   21035.51324206  .00001077  0...   \n",
       "1   1 42982U 98067NE  21035.07784222  .00039518  0...   \n",
       "2   1 42983U 98067NF  21035.43798448  .00008199  0...   \n",
       "3   1 43019U 98067NG  21035.45134322  .00021928  0...   \n",
       "4   1 43021U 98067NJ  21035.40749557  .00057847  0...   \n",
       "..                                                ...   \n",
       "58  1 46924U 98067RU  21035.02823493  .00017701  0...   \n",
       "59  1 46925U 98067RV  21034.95410699  .00019862  0...   \n",
       "60  1 46926U 98067RW  21034.89644397  .00016585  0...   \n",
       "61  1 46927U 98067RX  21035.08025837  .00008521  0...   \n",
       "62  1 47513U 98067RY  21035.04943082  .00015016  0...   \n",
       "\n",
       "                                               Line_2  \\\n",
       "0   2 25544  51.6455 278.9410 0002184 336.6191  80...   \n",
       "1   2 42982  51.6323 171.3925 0003428 269.8493  90...   \n",
       "2   2 42983  51.6361 214.0230 0003494 200.7330 159...   \n",
       "3   2 43019  51.6389 189.4470 0003522 205.4668 154...   \n",
       "4   2 43021  51.6297 166.1313 0001881 250.3584 109...   \n",
       "..                                                ...   \n",
       "58  2 46924  51.6414 279.5858 0001095  50.1592 309...   \n",
       "59  2 46925  51.6424 279.8471 0001239  34.8523 325...   \n",
       "60  2 46926  51.6422 280.2113 0000525  33.5776 326...   \n",
       "61  2 46927  51.6422 279.9325 0001547   4.0934 356...   \n",
       "62  2 47513  51.6464 281.2151 0003132 350.3129   9...   \n",
       "\n",
       "                                      Position_vector  \\\n",
       "0   (-2137.818424827055, -5365.884343148369, -3589...   \n",
       "1   (3259.2488357546895, 3252.9470579652548, -4877...   \n",
       "2   (-6131.33868083971, -2033.3893522594967, -1983...   \n",
       "3   (-768.1328539999155, 4112.390910933398, -5276....   \n",
       "4   (6292.3944463409125, -2226.690729427155, 560.5...   \n",
       "..                                                ...   \n",
       "58  (4032.2527835041187, 1441.4335591898925, 5253....   \n",
       "59  (1169.6586754856028, 6279.494280750455, 2279.1...   \n",
       "60  (3429.1155136793864, 3406.6405796472113, 4751....   \n",
       "61  (458.7706459146908, 6598.936420263448, 1531.37...   \n",
       "62  (-1313.3286210909785, -6107.101506171205, -268...   \n",
       "\n",
       "                                         Speed_vector  \n",
       "0   (4.175137064023087, -4.630433520287019, 4.4419...  \n",
       "1   (-6.61442207086561, 3.2447383558170495, -2.255...  \n",
       "2   (-0.05624971777802427, -5.270704914997986, 5.5...  \n",
       "3   (-7.59387077374121, -1.1919833818647645, 0.173...  \n",
       "4   (2.0850541370037305, 4.359768960598111, -6.017...  \n",
       "..                                                ...  \n",
       "58  (-1.4958491759761905, 7.469229606280735, -0.89...  \n",
       "59  (-4.610120327018833, 2.839597306018817, -5.432...  \n",
       "60  (-2.8251500011349946, 6.6046566019132, -2.6888...  \n",
       "61  (-4.7760255409536345, 1.6761367883965714, -5.7...  \n",
       "62  (4.587271180632175, -3.2612434618771915, 5.194...  \n",
       "\n",
       "[63 rows x 5 columns]"
      ]
     },
     "execution_count": 78,
     "metadata": {},
     "output_type": "execute_result"
    }
   ],
   "source": [
    "dataframe"
   ]
  }
 ],
 "metadata": {
  "kernelspec": {
   "display_name": "Python 3",
   "language": "python",
   "name": "python3"
  },
  "language_info": {
   "codemirror_mode": {
    "name": "ipython",
    "version": 3
   },
   "file_extension": ".py",
   "mimetype": "text/x-python",
   "name": "python",
   "nbconvert_exporter": "python",
   "pygments_lexer": "ipython3",
   "version": "3.8.5"
  },
  "toc": {
   "base_numbering": 1,
   "nav_menu": {},
   "number_sections": true,
   "sideBar": true,
   "skip_h1_title": false,
   "title_cell": "Table of Contents",
   "title_sidebar": "Contents",
   "toc_cell": false,
   "toc_position": {},
   "toc_section_display": true,
   "toc_window_display": false
  },
  "varInspector": {
   "cols": {
    "lenName": 16,
    "lenType": 16,
    "lenVar": 40
   },
   "kernels_config": {
    "python": {
     "delete_cmd_postfix": "",
     "delete_cmd_prefix": "del ",
     "library": "var_list.py",
     "varRefreshCmd": "print(var_dic_list())"
    },
    "r": {
     "delete_cmd_postfix": ") ",
     "delete_cmd_prefix": "rm(",
     "library": "var_list.r",
     "varRefreshCmd": "cat(var_dic_list()) "
    }
   },
   "types_to_exclude": [
    "module",
    "function",
    "builtin_function_or_method",
    "instance",
    "_Feature"
   ],
   "window_display": false
  }
 },
 "nbformat": 4,
 "nbformat_minor": 4
}
